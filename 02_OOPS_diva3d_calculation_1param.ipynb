{
 "cells": [
  {
   "cell_type": "markdown",
   "metadata": {},
   "source": [
    "### Script to calculate the diva3D products\n",
    "\n",
    "* The script loops over the variable names in _varname_\n",
    "* the signal-to-noise (e) and correlation length (l) parameters calculated in the previous script are loaded from\n",
    "    * /_varname_/*varname*_newe.txt\n",
    "    * /_varname_/*varname*_newl.txt\n",
    "* these parameters are first filtered (only l < 500 000 and e < 15 are retained) and then averaged\n",
    "* with these new averaged parameters the diva product is calculated: 1 diva interpolated map\n",
    "    * per species\n",
    "    * per season\n",
    "    * per year\n",
    "* the output netcdf files are stored in /_varname_/netcdf_all/"
   ]
  },
  {
   "cell_type": "code",
   "execution_count": 1,
   "metadata": {},
   "outputs": [
    {
     "name": "stdout",
     "output_type": "stream",
     "text": [
      "Julia Version 0.6.4\n",
      "Commit 9d11f62bcb (2018-07-09 19:09 UTC)\n",
      "Platform Info:\n",
      "  OS: Linux (x86_64-pc-linux-gnu)\n",
      "  CPU: Intel(R) Xeon(R) CPU E5-2630L 0 @ 2.00GHz\n",
      "  WORD_SIZE: 64\n",
      "  BLAS: libopenblas (USE64BITINT DYNAMIC_ARCH NO_AFFINITY Sandybridge MAX_THREADS=16)\n",
      "  LAPACK: libopenblas64_\n",
      "  LIBM: libopenlibm\n",
      "  LLVM: libLLVM-3.9.1 (ORCJIT, sandybridge)\n",
      "Libz: 0.4.0\n",
      "AxisAlgorithms: 0.3.0\n",
      "OffsetArrays: 0.6.0\n",
      "HTTP: 0.6.12\n",
      "CondaBinDeps: 0.1.0\n",
      "OceanPlot: 0.0.0-\n",
      "Nullables: 0.0.6\n",
      "ZMQ: 0.6.3\n",
      "DataStructures: 0.8.4\n",
      "Compat: 1.0.0\n",
      "EzXML: 0.7.1\n",
      "ShowItLikeYouBuildIt: 0.2.0\n",
      "SpecialFunctions: 0.6.0\n",
      "Blosc: 0.5.0\n",
      "ZipFile: 0.6.0\n",
      "FixedPointNumbers: 0.4.6\n",
      "SHA: 0.5.7\n",
      "Missings: 0.2.10\n",
      "MAT: 0.4.0\n",
      "HDF5: 0.9.3\n",
      "ColorTypes: 0.6.7\n",
      "BufferedStreams: 0.4.1\n",
      "MbedTLS: 0.5.12\n",
      "SortingAlgorithms: 0.2.1\n",
      "Conda: 1.0.0\n",
      "PyCall: 1.17.1\n",
      "WoodburyMatrices: 0.3.0\n",
      "JSON: 0.17.2\n",
      "StatsBase: 0.23.1\n",
      "IJulia: 1.9.1\n",
      "PyPlot: 2.6.0\n",
      "BinDeps: 0.8.8\n",
      "Parameters: 0.9.1\n",
      "DIVAnd: 2.0.0+\n",
      "Mustache: 0.3.3\n",
      "Reexport: 0.1.0\n",
      "CMakeWrapper: 0.1.0\n",
      "URIParser: 0.3.1\n",
      "Interpolations: 0.8.0\n",
      "BinaryProvider: 0.3.3\n",
      "IniFile: 0.4.0\n",
      "LaTeXStrings: 1.0.0\n",
      "DataArrays: 0.7.0\n",
      "VersionParsing: 1.1.1\n",
      "Colors: 0.8.2\n",
      "MacroTools: 0.4.2\n",
      "NCDatasets: 0.3.0\n",
      "Ratios: 0.2.0\n"
     ]
    }
   ],
   "source": [
    "BLAS.set_num_threads(1)\n",
    "versioninfo()\n",
    "print(join([\"$p: $v\\n\" for (p,v) in Pkg.installed()]))"
   ]
  },
  {
   "cell_type": "code",
   "execution_count": 2,
   "metadata": {},
   "outputs": [
    {
     "data": {
      "text/plain": [
       "\"/data/20180306_OOPS\""
      ]
     },
     "execution_count": 2,
     "metadata": {},
     "output_type": "execute_result"
    }
   ],
   "source": [
    "# change working directory\n",
    "@show pwd()\n",
    "cd(\"//data/20180306_OOPS/\")\n",
    "@show pwd()"
   ]
  },
  {
   "cell_type": "code",
   "execution_count": 3,
   "metadata": {},
   "outputs": [
    {
     "name": "stdout",
     "output_type": "stream",
     "text": [
      "pwd() = \"/home/lennerts/Diva_product_scripts_2018\"\n",
      "pwd() = \"/data/20180306_OOPS\"\n"
     ]
    }
   ],
   "source": [
    "using DIVAnd\n",
    "using PyPlot\n",
    "using NCDatasets\n",
    "using DataStructures\n",
    "\n",
    "# Load a more efficient version of sparse matrix multiplication\n",
    "include(joinpath(Pkg.dir(\"DIVAnd\"),\"src\",\"override_ssmult.jl\"))"
   ]
  },
  {
   "cell_type": "code",
   "execution_count": 4,
   "metadata": {},
   "outputs": [
    {
     "data": {
      "text/plain": [
       "yearlists_ (generic function with 1 method)"
      ]
     },
     "execution_count": 4,
     "metadata": {},
     "output_type": "execute_result"
    }
   ],
   "source": [
    "function yearlists_(dataset_range, total_window_yrs)\n",
    "    # dataset_range = 2000:2012\n",
    "    # total_window_yrs = 10\n",
    "    # will return: [2000:2009, 2001:2010, 2002:2011, 2003:2012]\n",
    "    \n",
    "    n_windows = length(dataset_range) - total_window_yrs + 1\n",
    "\n",
    "    a = Array{UnitRange{Int64}}(n_windows)\n",
    "\n",
    "    for i = 1:n_windows\n",
    "        a[i] =  dataset_range[i]:(dataset_range[i] + total_window_yrs -1)\n",
    "    end\n",
    "    return(a)\n",
    "end"
   ]
  },
  {
   "cell_type": "code",
   "execution_count": 5,
   "metadata": {},
   "outputs": [
    {
     "data": {
      "text/plain": [
       "plotres (generic function with 1 method)"
      ]
     },
     "execution_count": 5,
     "metadata": {},
     "output_type": "execute_result"
    }
   ],
   "source": [
    "function plotres(timeindex,sel,fit,erri) # fit = interpolated field\n",
    "    tmp = copy(fit)\n",
    "    tmp[erri .> .3] = NaN; # only plotting where error < 0.3\n",
    "    figure(figsize = (10,8))\n",
    "    subplot(2,1,1)\n",
    "    title(\"$(timeindex) - surface\")\n",
    "    \n",
    "    # select the data near the surface\n",
    "    selsurface = sel .& (depth .< 5)\n",
    "    vmin = minimum(value[selsurface])\n",
    "    vmax = maximum(value[selsurface])\n",
    "    \n",
    "    # plot the data\n",
    "    scatter(lon[selsurface],lat[selsurface],10,value[selsurface];\n",
    "            vmin = vmin, vmax = vmax)\n",
    "    xlim(minimum(lonr),maximum(lonr))\n",
    "    ylim(minimum(latr),maximum(latr))\n",
    "    colorbar()\n",
    "    contourf(bx,by,b', levels = [-1e5,0],colors = [[.5,.5,.5]])\n",
    "    \n",
    "    # plot the analysis\n",
    "    subplot(2,1,2)\n",
    "    pcolor(lonr,latr,tmp[:,:,1]';\n",
    "           vmin = vmin, vmax = vmax)\n",
    "    colorbar()\n",
    "    contourf(bx,by,b', levels = [-1e5,0],colors = [[.5,.5,.5]])\n",
    "end"
   ]
  },
  {
   "cell_type": "code",
   "execution_count": 6,
   "metadata": {},
   "outputs": [
    {
     "data": {
      "text/plain": [
       "true"
      ]
     },
     "execution_count": 6,
     "metadata": {},
     "output_type": "execute_result"
    },
    {
     "name": "stderr",
     "output_type": "stream",
     "text": [
      "\u001b[1m\u001b[36mINFO: \u001b[39m\u001b[22m\u001b[36mBathymetry file already downloaded\n",
      "\u001b[39m"
     ]
    }
   ],
   "source": [
    "bathname = \"gebco_30sec_4.nc\"\n",
    "\n",
    "if !isfile(bathname)\n",
    "    download(\"https://b2drop.eudat.eu/s/ACcxUEZZi6a4ziR/download\",bathname)\n",
    "else\n",
    "    info(\"Bathymetry file already downloaded\")\n",
    "end\n",
    "\n",
    "bathisglobal = true"
   ]
  },
  {
   "cell_type": "code",
   "execution_count": 7,
   "metadata": {},
   "outputs": [
    {
     "data": {
      "text/plain": [
       "(-75.0:0.1:20.0, 35.0:0.1:75.0, [2475.89 1803.55 … 290.672 483.172; 2698.02 2466.61 … 291.781 466.875; … ; 3013.61 2988.84 … 173.094 126.891; 2998.63 2965.13 … 146.625 140.734])"
      ]
     },
     "execution_count": 7,
     "metadata": {},
     "output_type": "execute_result"
    }
   ],
   "source": [
    "dx = dy = 0.1\n",
    "lonr = -75.:dx:20.; # the range of longitudes (start:step:end)\n",
    "latr = 35.:dy:75.; # the range of latitudes (start:step:end)\n",
    "depthr = [-1., 1.] # put . always! (otherwise integer and error in DIVA)\n",
    "\n",
    "# create mask\n",
    "# mask,(pm,pn),(xi,yi) = divand_rectdom(lonr,latr)\n",
    "# I changed the line below after error with diva3d\n",
    "mask,(pm,pn),(xi,yi) = DIVAnd.domain(bathname, true, lonr, latr)\n",
    "bx,by,b = load_bath(bathname,true,lonr,latr)\n"
   ]
  },
  {
   "cell_type": "code",
   "execution_count": 8,
   "metadata": {},
   "outputs": [],
   "source": [
    "# Months and years\n",
    "monthlists = [\n",
    "    [1,2,3],\n",
    "    [4,5,6],\n",
    "    [7,8,9],\n",
    "    [10,11,12]\n",
    "]\n",
    "yearlists = yearlists_(1958:2016, 1);"
   ]
  },
  {
   "cell_type": "code",
   "execution_count": 9,
   "metadata": {},
   "outputs": [
    {
     "data": {
      "text/plain": [
       "DataStructures.OrderedDict{String,String} with 7 entries:\n",
       "  \"project\"         => \"EMODnet Biology\"\n",
       "  \"institution_urn\" => \"SDN::EDMO::422\"\n",
       "  \"production\"      => \"Flanders Marine Institute\"\n",
       "  \"Author_e-mail\"   => \"Lennert Schepers <lennert.schepers@vliz.be>\"\n",
       "  \"source\"          => \"SAHFOS / Marine Biological Association (UK)\"\n",
       "  \"comment\"         => \"...\"\n",
       "  \"product_version\" => \"2.0\""
      ]
     },
     "execution_count": 9,
     "metadata": {},
     "output_type": "execute_result"
    }
   ],
   "source": [
    "ncglobalattrib = OrderedDict(\n",
    "    # Name of the project (SeaDataCloud, SeaDataNet, EMODNET-Chemistry, ...)\n",
    "    \"project\" => \"EMODnet Biology\",\n",
    "\n",
    "    # URN code for the institution EDMO registry,\n",
    "    # e.g. SDN:EDMO::422 -> Flanders Marine Institute (VLIZ)\n",
    "    \"institution_urn\" => \"SDN::EDMO::422\",\n",
    "\n",
    "    # Production group\n",
    "    \"production\" => \"Flanders Marine Institute\",\n",
    "\n",
    "    # Name and emails from authors\n",
    "    \"Author_e-mail\" => \"Lennert Schepers <lennert.schepers@vliz.be>\",\n",
    "\n",
    "    # Source of the observation\n",
    "    \"source\" => \"SAHFOS / Marine Biological Association (UK)\",\n",
    "\n",
    "    # Additional comment\n",
    "    \"comment\" => \"...\",\n",
    "\n",
    "    \"product_version\" => \"2.0\")\n",
    "\n",
    "    # NetCDF CF standard name\n",
    "    # http://cfconventions.org/Data/cf-standard-names/current/build/cf-standard-name-table.html\n",
    "    # example \"standard_name\" = \"sea_water_temperature\",\n",
    "    #\"netcdf_standard_name\" => \"sea_water_salinity\",\n",
    "\n",
    "    #\"netcdf_long_name\" => \"sea water salinity\",\n",
    "\n",
    "    #\"netcdf_units\" => \"1e-3\",\n",
    "\n",
    "    # Abstract for the product\n",
    "    #\"abstract\" => \"...\",\n",
    "\n",
    "    # This option provides a place to acknowledge various types of support for the\n",
    "    # project that produced the data\n",
    "    #\"acknowledgement\" => \"...\",\n",
    "\n",
    "    # Digital Object Identifier of the data product\n",
    "    #\"doi\" => \"...\")"
   ]
  },
  {
   "cell_type": "code",
   "execution_count": 10,
   "metadata": {},
   "outputs": [
    {
     "name": "stdout",
     "output_type": "stream",
     "text": [
      "yearlists[1] = 1958:1958\n",
      "monthlists[1] = "
     ]
    },
    {
     "data": {
      "text/plain": [
       "3-element Array{Int64,1}:\n",
       " 1\n",
       " 2\n",
       " 3"
      ]
     },
     "execution_count": 10,
     "metadata": {},
     "output_type": "execute_result"
    },
    {
     "name": "stdout",
     "output_type": "stream",
     "text": [
      "[1, 2, 3]\n"
     ]
    }
   ],
   "source": [
    "@show yearlists[1]\n",
    "@show monthlists[1]"
   ]
  },
  {
   "cell_type": "code",
   "execution_count": null,
   "metadata": {},
   "outputs": [],
   "source": [
    "for varname = [\"log_tem_lon\",\"log_cal_hel\", \"log_tot_lar\",\"log_tot_sma\",\n",
    "               \"log_oit_spp\", \"log_cal_fin\",\"ratio_large_to_small\",\n",
    "               \"log_aca_spp\", \"log_met_luc\", \"log_chli\"]\n",
    "\n",
    "    varDir = joinpath(pwd(),varname)\n",
    "    varncDir = joinpath(varDir,\"netcdf_all\")\n",
    "    mkpath(varncDir)\n",
    "    \n",
    "    newe = readdlm(joinpath(varDir,\"$(varname)_newe.txt\"))\n",
    "    newl = readdlm(joinpath(varDir,\"$(varname)_newl.txt\"))\n",
    "    \n",
    "    newl_avg=mean(filter(x -> x < 500_000, newl))\n",
    "    newe_avg=mean(filter(x -> x < 15, newe))\n",
    "    \n",
    "    \n",
    "    ncvarattrib = OrderedDict(\n",
    "    \"units\" => \"logab\",\n",
    "    \"standard_name\" => varname,\n",
    "    \"long_name\" => \"$(replace(varname,'_',' '))\")\n",
    "    \n",
    "    @show varname\n",
    "    t1 = now()\n",
    "    @show t1\n",
    "    \n",
    "    # read data\n",
    "    fname = \"bigfile_$(varname).txt\"\n",
    "\n",
    "    if !isfile(fname)\n",
    "        error(\"ERROR: File not found\")\n",
    "    else\n",
    "        info(\"File found -> OK!\")\n",
    "    end\n",
    "\n",
    "    value,lon,lat,depth,time,ids = loadbigfile(fname)\n",
    "    checkobs((lon,lat,depth,time), value, ids)\n",
    "    \n",
    "    #### make selection for each timestep\n",
    "    # yr = yearlists[1]\n",
    "    # mo = monthlists[1]\n",
    "    for yr = yearlists\n",
    "        for mo = monthlists\n",
    "                \n",
    "            \n",
    "                TS = TimeSelectorYearListMonthList([yr],[mo])\n",
    "                @show TS\n",
    "                t1 = now() # keep track of time\n",
    "                @show t1\n",
    "\n",
    "                # subset data based on timestep\n",
    "                # https://stackoverflow.com/a/29661623\n",
    "                sel = ones(length(value))\n",
    "                sel = (depth .< 1) .& (indexin(Dates.month.(time), mo) .> 0) .& (indexin(Dates.year.(time), yr) .> 0)\n",
    "\n",
    "                value_sel = value[sel]\n",
    "                lon_sel = lon[sel]\n",
    "                lat_sel = lat[sel]\n",
    "                depth_sel = depth[sel]\n",
    "                time_sel = time[sel]\n",
    "                ids_sel = ids[sel];\n",
    "                @show (size(value_sel))\n",
    "\n",
    "               \n",
    "                @show newl_avg\n",
    "                @show newe_avg\n",
    "            \n",
    "                #### run diva\n",
    "                if contains(varname, \"log_\")\n",
    "                    shortname = split(varname, \"log_\")[2]\n",
    "                else\n",
    "                    shortname = varname\n",
    "                end\n",
    "            \n",
    "                ncname = joinpath(varncDir,\n",
    "                    \"$(shortname)_$(yr[1])$(yr[length(yr)])_$(dec(mo[1],2))$(dec(mo[length(mo)],2)).nc\");\n",
    "                ncvarname = varname;\n",
    "                @show ncname\n",
    "            \n",
    "                dbinfo = diva3d((lonr,latr,depthr, TS),        # TS: timestep -> NOW 1\n",
    "                      (lon_sel,lat_sel,depth_sel,time_sel),    # observations\n",
    "                      value_sel,                               # value of observations\n",
    "                      (newl_avg,newl_avg,1.),                          # correlation length (in meters) # CAN NOT BE 0.\n",
    "                      newe_avg,                                    # expected error \n",
    "                      ncname, ncvarname,                       # netcdf outputfilename, output variable name (in netcdf)\n",
    "                      bathname = bathname,                     # bathymetry\n",
    "                      bathisglobal = bathisglobal,             # global or not?\n",
    "                      #plotres = plotres,                  # to plot or not to plot? [optional]\n",
    "                      # plotres = plotres_timeindex,        # plot time index [optional]\n",
    "                       ncvarattrib = ncvarattrib,           # [optional]\n",
    "                       ncglobalattrib = ncglobalattrib,     # [optional]\n",
    "                      memtofit = 1000             # [optional]\n",
    "                )\n",
    "            \n",
    "                t2 = now()\n",
    "                @show Dates.canonicalize(Dates.CompoundPeriod(t2-t1))\n",
    "\n",
    "        end # mo\n",
    "    end # yr\n",
    "end # varname"
   ]
  }
 ],
 "metadata": {
  "kernelspec": {
   "display_name": "Julia 0.6.4",
   "language": "julia",
   "name": "julia-0.6"
  },
  "language_info": {
   "file_extension": ".jl",
   "mimetype": "application/julia",
   "name": "julia",
   "version": "0.6.4"
  }
 },
 "nbformat": 4,
 "nbformat_minor": 2
}
